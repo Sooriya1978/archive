{
 "metadata": {
  "name": "",
  "signature": "sha256:b51e49669fa904230ceace9528cc741e8260ae7d77a018fa6ed7879b2dbf2dc8"
 },
 "nbformat": 3,
 "nbformat_minor": 0,
 "worksheets": [
  {
   "cells": [
    {
     "cell_type": "code",
     "collapsed": false,
     "input": [
      "#Copiado de https://github.com/aivuk/var/blob/master/usp-salarios\n",
      "%pylab inline\n",
      "import pandas as pd\n",
      "from IPython import display"
     ],
     "language": "python",
     "metadata": {},
     "outputs": []
    },
    {
     "cell_type": "code",
     "collapsed": false,
     "input": [
      "dados_usp = pd.read_csv('../../input/salarios-setembro2014-folha.csv', sep=';', decimal=',')"
     ],
     "language": "python",
     "metadata": {},
     "outputs": []
    },
    {
     "cell_type": "heading",
     "level": 1,
     "metadata": {},
     "source": [
      "Valor em bilh\u00f5es por ano por Categoria"
     ]
    },
    {
     "cell_type": "code",
     "collapsed": false,
     "input": [
      "dc = dados_usp.groupby(dados_usp.Categoria)\n",
      "anual = dc['Salario Mensal'].sum()*12\n",
      "anual.plot(kind='barh')"
     ],
     "language": "python",
     "metadata": {},
     "outputs": []
    },
    {
     "cell_type": "heading",
     "level": 1,
     "metadata": {},
     "source": [
      "Histograma do sal\u00e1rio mensal"
     ]
    },
    {
     "cell_type": "code",
     "collapsed": false,
     "input": [
      "dados_usp['Salario Mensal'].hist(bins=20, range=(0,35000))"
     ],
     "language": "python",
     "metadata": {},
     "outputs": []
    },
    {
     "cell_type": "heading",
     "level": 1,
     "metadata": {},
     "source": [
      "Quantos recebem mais de R$35.000?"
     ]
    },
    {
     "cell_type": "code",
     "collapsed": false,
     "input": [
      "display.HTML('<H3> {:3d} recebem mais de R$35.000,00 </H3>'.format(len(dados_usp[dados_usp['Salario Mensal'] > 35000])))"
     ],
     "language": "python",
     "metadata": {},
     "outputs": []
    },
    {
     "cell_type": "heading",
     "level": 1,
     "metadata": {},
     "source": [
      "Quantos recebem mais de R$24.000 e n\u00e3o s\u00e3o aposentados?"
     ]
    },
    {
     "cell_type": "code",
     "collapsed": false,
     "input": [
      "mais_24 = dados_usp[(dados_usp['Categoria'] != 'Docente Aposentado') & \\\n",
      "                    (dados_usp['Categoria'] != 'Funcion\u00e1rio Aposentado') & \\\n",
      "                    (dados_usp['Salario Mensal'] > 24000)]\n",
      "\n",
      "display.HTML('<H3>{} recebem mais de R$24.000 e n\u00e3o s\u00e3o aposentados</H3>'.format(len(mais_24)))"
     ],
     "language": "python",
     "metadata": {},
     "outputs": []
    },
    {
     "cell_type": "code",
     "collapsed": false,
     "input": [
      "mais_24['Fun\u00e7\u00e3o'].value_counts()"
     ],
     "language": "python",
     "metadata": {},
     "outputs": []
    },
    {
     "cell_type": "heading",
     "level": 1,
     "metadata": {},
     "source": [
      "Quem recebe mais de 35.000?"
     ]
    },
    {
     "cell_type": "code",
     "collapsed": false,
     "input": [
      "dados_usp[dados_usp['Salario Mensal'] > 35000][['Nome', 'Unidade da USP', 'Fun\u00e7\u00e3o', 'Categoria', 'Salario Mensal']]"
     ],
     "language": "python",
     "metadata": {},
     "outputs": []
    },
    {
     "cell_type": "heading",
     "level": 1,
     "metadata": {},
     "source": [
      "Custo anual dos aposentados"
     ]
    },
    {
     "cell_type": "code",
     "collapsed": false,
     "input": [
      "aposentados = dados_usp[(dados_usp['Categoria'] == 'Docente Aposentado') | \\\n",
      "                    (dados_usp['Categoria'] == 'Funcion\u00e1rio Aposentado')]\n",
      "\n",
      "display.HTML(\"<h3>R${:,.2f}</h3>\".format(aposentados['Salario Mensal'].sum()*12))"
     ],
     "language": "python",
     "metadata": {},
     "outputs": []
    },
    {
     "cell_type": "heading",
     "level": 1,
     "metadata": {},
     "source": [
      "Histograma do valor mensal por unidade dos que recebem mais de 35000"
     ]
    },
    {
     "cell_type": "code",
     "collapsed": false,
     "input": [
      "dados_usp[dados_usp['Salario Mensal'] > 35000].groupby(dados_usp['Unidade da USP'])['Salario Mensal'].sum().plot(kind='barh')"
     ],
     "language": "python",
     "metadata": {},
     "outputs": []
    },
    {
     "cell_type": "heading",
     "level": 1,
     "metadata": {},
     "source": [
      "Histograma do n\u00famero de pessoas por unidade que recebem mais de 35000"
     ]
    },
    {
     "cell_type": "code",
     "collapsed": false,
     "input": [
      "dados_usp[dados_usp['Salario Mensal'] > 35000].groupby('Unidade da USP')['Salario Mensal'].count()\n"
     ],
     "language": "python",
     "metadata": {},
     "outputs": []
    },
    {
     "cell_type": "heading",
     "level": 1,
     "metadata": {},
     "source": [
      "Porcentagem de quantos recebem mais que 24.000"
     ]
    },
    {
     "cell_type": "code",
     "collapsed": false,
     "input": [
      "valor_separador = 24000\n",
      "\n",
      "total_maior = dados_usp[dados_usp['Salario Mensal'] >= valor_separador]['Salario Mensal'].sum()\n",
      "num_total_maior = float(len(dados_usp[dados_usp['Salario Mensal'] > valor_separador]))\n",
      "\n",
      "total_menor = dados_usp[dados_usp['Salario Mensal'] < valor_separador]['Salario Mensal'].sum()\n",
      "num_total_menor = float(len(dados_usp[dados_usp['Salario Mensal'] < valor_separador]))\n",
      "\n",
      "total_mes = dados_usp['Salario Mensal'].sum()\n",
      "num_total_mes = float(len(dados_usp))"
     ],
     "language": "python",
     "metadata": {},
     "outputs": []
    },
    {
     "cell_type": "code",
     "collapsed": true,
     "input": [
      "display.HTML('<h2>{:.2%} ({:.0f} de {:.0f}) recebem menos de R${:.2f}, sendo que eles representam {:.2%} do custo da USP em sal\u00e1rios.</h2><p> \\\n",
      "              <h2>{:.2%} ({:.0f} de {:.0f}) recebem mais de R${:.2f}, sendo que eles representam {:.2%} do custo da USP em sal\u00e1rios.</h2></h2>'\\\n",
      "             .format(num_total_menor/num_total_mes,\n",
      "                     num_total_menor, num_total_mes, valor_separador,\\\n",
      "                     total_menor/total_mes, \\\n",
      "                     num_total_maior/num_total_mes, num_total_maior, num_total_mes, valor_separador, \n",
      "                     total_maior/total_mes))\n"
     ],
     "language": "python",
     "metadata": {},
     "outputs": []
    },
    {
     "cell_type": "code",
     "collapsed": false,
     "input": [],
     "language": "python",
     "metadata": {},
     "outputs": []
    },
    {
     "cell_type": "code",
     "collapsed": false,
     "input": [],
     "language": "python",
     "metadata": {},
     "outputs": []
    }
   ],
   "metadata": {}
  }
 ]
}