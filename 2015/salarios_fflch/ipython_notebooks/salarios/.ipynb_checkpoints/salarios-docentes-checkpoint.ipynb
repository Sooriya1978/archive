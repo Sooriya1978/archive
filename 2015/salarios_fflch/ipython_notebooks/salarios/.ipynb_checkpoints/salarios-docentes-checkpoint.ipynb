{
 "metadata": {
  "name": "",
  "signature": "sha256:ea9c431025ade42c82b10d15b76e8be11b413096cb76b673a60fe1f93dc29899"
 },
 "nbformat": 3,
 "nbformat_minor": 0,
 "worksheets": [
  {
   "cells": [
    {
     "cell_type": "code",
     "collapsed": false,
     "input": [
      "#C\u00f3digo copiado do prof. Ewout ter Haar \n",
      "#http://stats.stoa.usp.br/folhausp.ipynb\n",
      "#%matplotlib inline\n",
      "import numpy as np\n",
      "import pandas as pd #apt-get install python-pandas\n",
      "import matplotlib.pyplot as plt\n",
      "# use seaborn plotting defaults\n",
      "# If this causes an error, you can comment it out.\n",
      "#import seaborn as sns # apt-get install python-pip; pip install seaborn \n",
      "#sns.set(style=\"whitegrid\")"
     ],
     "language": "python",
     "metadata": {},
     "outputs": [],
     "prompt_number": 6
    },
    {
     "cell_type": "code",
     "collapsed": false,
     "input": [
      "df = pd.read_csv('../output/salarios_fflch.csv',sep=',',decimal=',',thousands='.',header=0,names=['unidade','setor','salario'])\n",
      "#df.dtypes #Para verificar se o sal\u00e1rio foi lido como float\n",
      "\n",
      "#byuni = df.groupby('unidade')['salario']\n",
      "#unidades = byuni.groups.keys()\n",
      "#byuni = df.groupby('unidade')['salario']\n",
      "\n",
      "#Deletando algumas unidades com um \u00fanico docente\n",
      "#del byuni.groups['PUSPQSD']\n",
      "#del byuni.groups['SVOC']\n",
      "#del byuni.groups['SEF']\n",
      "#del byuni.groups['SVOI']\n",
      "#del byuni.groups['HRAC']\n",
      "#del byuni.groups['PUSP-C']\n",
      "#del byuni.groups['SIBI']\n",
      "\n",
      "#del byuni.groups['PUSP-P']\n",
      "\n",
      "#unidades = byuni.groups.keys()\n",
      "#values = [byuni.get_group(unidade) for unidade in unidades] "
     ],
     "language": "python",
     "metadata": {},
     "outputs": []
    },
    {
     "cell_type": "code",
     "collapsed": false,
     "input": [
      "rows,cols = 6,10\n",
      "fig, axs = plt.subplots(rows,1,figsize=(18, 24))\n",
      "for i in range(rows):    \n",
      "    vals = values[i*cols:i*cols+cols]\n",
      "    keys = unidades[i*cols:i*cols+cols]\n",
      "    sns.violinplot(vals=vals,names=keys, color=\"Set3\", bw='silverman', cut=0,\n",
      "                   lw=.5, inner=\"points\", inner_kws={\"ms\": 5},ax=axs[i])\n",
      "    axs[i].set(ylim=(0, 35000))\n",
      "    plt.sca(axs[i])\n",
      "    for j in range(cols):\n",
      "        text(j+1,32000,'N=%i'%len(vals[j]),ha='center')\n",
      "    sns.despine(left=True, bottom=True)\n",
      "\n",
      "#Salvando imagem\n",
      "figure = plt.gcf() # get current figure\n",
      "plt.savefig(\"../../output/docentes.png\", dpi = 300)"
     ],
     "language": "python",
     "metadata": {},
     "outputs": []
    },
    {
     "cell_type": "code",
     "collapsed": true,
     "input": [
      "byuni = df.groupby('unidade')['salario']\n",
      "unidades = byuni.groups.keys()\n",
      "values = [byuni.get_group(unidade) for unidade in unidades] \n",
      "fig, ax = plt.subplots(figsize=(18, 6))\n",
      "unidades = ['FM','FD','EP','IF','EACH','EEL']\n",
      "values = [byuni.get_group(unidade) for unidade in unidades]\n",
      "sns.violinplot(vals=values,names=unidades, color=\"Set3\", bw='silverman', cut=0,\n",
      "                   lw=.5, inner=\"box\", inner_kws={\"ms\": 5},ax=ax)\n",
      "\n",
      "ax.set(ylim=(0, 35000))\n",
      "sns.despine(left=True, bottom=True)\n",
      "for i in range(len(unidades)):\n",
      "    text(i+1,33000,'N=%i'%len(values[i]),ha='center')\n"
     ],
     "language": "python",
     "metadata": {},
     "outputs": []
    },
    {
     "cell_type": "code",
     "collapsed": false,
     "input": [
      "mean(byuni.groups['FD'])"
     ],
     "language": "python",
     "metadata": {},
     "outputs": []
    },
    {
     "cell_type": "code",
     "collapsed": false,
     "input": [
      "bycat = df.groupby('cat').salario.describe().unstack(0).T\n",
      "bycat"
     ],
     "language": "python",
     "metadata": {},
     "outputs": []
    },
    {
     "cell_type": "code",
     "collapsed": false,
     "input": [
      "byfun = df.groupby('fun').salario.describe().unstack(0).T\n",
      "byfun"
     ],
     "language": "python",
     "metadata": {},
     "outputs": []
    },
    {
     "cell_type": "code",
     "collapsed": false,
     "input": [
      "byfun[['count','mean','50%']].sort('50%',ascending=False)"
     ],
     "language": "python",
     "metadata": {},
     "outputs": []
    },
    {
     "cell_type": "code",
     "collapsed": false,
     "input": [
      "byjor = df.groupby('jornada').salario.describe().unstack(0).T\n",
      "byjor"
     ],
     "language": "python",
     "metadata": {},
     "outputs": []
    },
    {
     "cell_type": "code",
     "collapsed": false,
     "input": [
      "byunidade = df.groupby('unidade').salario.describe().unstack(0).T\n",
      "byunidade"
     ],
     "language": "python",
     "metadata": {},
     "outputs": []
    },
    {
     "cell_type": "code",
     "collapsed": false,
     "input": [
      "byunidade[['count','mean','50%']].sort('50%',ascending=False)"
     ],
     "language": "python",
     "metadata": {},
     "outputs": []
    }
   ],
   "metadata": {}
  }
 ]
}