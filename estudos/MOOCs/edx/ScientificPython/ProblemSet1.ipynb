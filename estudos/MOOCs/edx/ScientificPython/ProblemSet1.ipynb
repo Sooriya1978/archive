{
 "metadata": {
  "name": ""
 },
 "nbformat": 3,
 "nbformat_minor": 0,
 "worksheets": [
  {
   "cells": [
    {
     "cell_type": "code",
     "collapsed": false,
     "input": [
      "# 1 - Conta n\u00famero de vogais em uma string\n",
      "s = 'azcbobobegghakl'\n",
      "vowels = ['a','e','i','o','u']\n",
      "n = 0\n",
      "for i in s:\n",
      "    if i in vowels:\n",
      "        n = n + 1\n",
      "print 'Number of vowels: %d' % n"
     ],
     "language": "python",
     "metadata": {},
     "outputs": [
      {
       "output_type": "stream",
       "stream": "stdout",
       "text": [
        "Number of vowels: 5\n"
       ]
      }
     ],
     "prompt_number": 12
    },
    {
     "cell_type": "code",
     "collapsed": false,
     "input": [
      "# 2 - Conta quantas vezes a string bob aparece na string\n",
      "s = 'azcbobobegghaklbob'\n",
      "n = 0\n",
      "if 'bob' in s:\n",
      "    for i in range(len(s)):\n",
      "        if s[i:i+3]=='bob':\n",
      "            n = n + 1\n",
      "\n",
      "print 'Number of times bob occurs is: %d' % n"
     ],
     "language": "python",
     "metadata": {},
     "outputs": [
      {
       "output_type": "stream",
       "stream": "stdout",
       "text": [
        "Number of times bob occurs is: 3\n"
       ]
      }
     ],
     "prompt_number": 24
    },
    {
     "cell_type": "code",
     "collapsed": false,
     "input": [
      "# 3 - Mostra a maior substring de uma string onde as letras ocorrem em ordem alfab\u00e9tica\n",
      "#s = 'azcbobobegghakl'\n",
      "s = 'uhdmvcnonlzk'\n",
      "\n",
      "# Monta dicion\u00e1rio para letras do alfabeto\n",
      "alphabet = map(chr, range(97, 123))\n",
      "letters_dic = dict()\n",
      "n = 1\n",
      "for i in alphabet:\n",
      "    letters_dic[i] = n \n",
      "    n += 1\n",
      "    \n",
      "anterior = 0\n",
      "sequencias = []\n",
      "lista=[]\n",
      "\n",
      "for j in s:\n",
      "    atual = letters_dic[j]\n",
      "    if atual >= anterior:\n",
      "        lista.append(j)\n",
      "    else:\n",
      "        sequencias.append(lista)\n",
      "        lista = [] \n",
      "        lista.append(j) \n",
      "    anterior = atual\n",
      "\n",
      "anterior = 0\n",
      "for i in sequencias:\n",
      "    atual  = len(i)\n",
      "    if atual > anterior:\n",
      "        ganhador = i\n",
      "        anterior = atual\n",
      "\n",
      "# Converte lista para \n",
      "ganhador = ''.join(ganhador)\n",
      "\n",
      "print 'Longest substring in alphabetical order is: %s' % ganhador\n"
     ],
     "language": "python",
     "metadata": {},
     "outputs": [
      {
       "output_type": "stream",
       "stream": "stdout",
       "text": [
        "Longest substring in alphabetical order is: dmv\n"
       ]
      }
     ],
     "prompt_number": 87
    },
    {
     "cell_type": "code",
     "collapsed": false,
     "input": [],
     "language": "python",
     "metadata": {},
     "outputs": [
      {
       "metadata": {},
       "output_type": "pyout",
       "prompt_number": 86,
       "text": [
        "[['u'], ['h'], ['d', 'm', 'v'], ['c', 'n', 'o'], ['n'], ['l', 'z']]"
       ]
      }
     ],
     "prompt_number": 86
    },
    {
     "cell_type": "code",
     "collapsed": false,
     "input": [],
     "language": "python",
     "metadata": {},
     "outputs": [
      {
       "metadata": {},
       "output_type": "pyout",
       "prompt_number": 81,
       "text": [
        "['a',\n",
        " 'b',\n",
        " 'c',\n",
        " 'd',\n",
        " 'e',\n",
        " 'f',\n",
        " 'g',\n",
        " 'h',\n",
        " 'i',\n",
        " 'j',\n",
        " 'k',\n",
        " 'l',\n",
        " 'm',\n",
        " 'n',\n",
        " 'o',\n",
        " 'p',\n",
        " 'q',\n",
        " 'r',\n",
        " 's',\n",
        " 't',\n",
        " 'u',\n",
        " 'v',\n",
        " 'w',\n",
        " 'x',\n",
        " 'y',\n",
        " 'z']"
       ]
      }
     ],
     "prompt_number": 81
    },
    {
     "cell_type": "code",
     "collapsed": false,
     "input": [],
     "language": "python",
     "metadata": {},
     "outputs": [
      {
       "metadata": {},
       "output_type": "pyout",
       "prompt_number": 89,
       "text": [
        "True"
       ]
      }
     ],
     "prompt_number": 89
    },
    {
     "cell_type": "code",
     "collapsed": false,
     "input": [],
     "language": "python",
     "metadata": {},
     "outputs": []
    }
   ],
   "metadata": {}
  }
 ]
}